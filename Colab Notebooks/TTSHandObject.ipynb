'''
speak to me about the distance between an object and the hand!
'''
